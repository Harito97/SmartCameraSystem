{
 "cells": [
  {
   "cell_type": "code",
   "execution_count": 4,
   "metadata": {},
   "outputs": [
    {
     "name": "stdout",
     "output_type": "stream",
     "text": [
      "Same object\n"
     ]
    }
   ],
   "source": [
    "import cv2\n",
    "\n",
    "def extract_features(image_path, feature_extractor):\n",
    "    # Đọc ảnh và chuyển đổi thành ảnh đen trắng\n",
    "    image = cv2.imread(image_path)\n",
    "    gray_image = cv2.cvtColor(image, cv2.COLOR_BGR2GRAY)\n",
    "    \n",
    "    # Sử dụng thuật toán trích xuất đặc trưng\n",
    "    keypoints, descriptors = feature_extractor.detectAndCompute(gray_image, None)\n",
    "    \n",
    "    return keypoints, descriptors\n",
    "\n",
    "def match_images(descriptor1, descriptor2, matcher=cv2.BFMatcher()):\n",
    "    # So sánh các đặc trưng sử dụng k-NN hoặc Brute-Force Matcher\n",
    "    matches = matcher.knnMatch(descriptor1, descriptor2, k=2)\n",
    "    \n",
    "    # Áp dụng một ngưỡng để lọc các điểm khớp\n",
    "    good_matches = []\n",
    "    for m, n in matches:\n",
    "        if m.distance < 0.75 * n.distance:\n",
    "            good_matches.append(m)\n",
    "    \n",
    "    return good_matches\n",
    "\n",
    "def main():\n",
    "    cv2.namedWindow('Matches', cv2.WINDOW_NORMAL)\n",
    "    # Thay thế bằng đường dẫn của hai hình ảnh bạn muốn so sánh\n",
    "    # image_path1 = 'datatest/test_reid/tower0_0.jpg'\n",
    "    image_path2 = 'datatest/test_reid/tower0_1.jpg'\n",
    "    image_path1 = '/mnt/DataK/Project/SmartCameraSystem/backend/database/data/reid_model/Duc/231231_16h26m53s_screenshot.png'\n",
    "    # image_path2 = '/mnt/DataK/Project/SmartCameraSystem/backend/database/data/reid_model/Duc/231231_16h28m59s_screenshot.png'\n",
    "    # image_path1 = 'Duc1.png'\n",
    "    # image_path2 = 'Duc2.png'\n",
    "    image_path2 = '/mnt/DataK/Project/SmartCameraSystem/backend/database/data/reid_model/DucAnh/231231_16h28m09s_screenshot.png'\n",
    "    # Chọn thuật toán trích xuất đặc trưng (SIFT, SURF, ORB)\n",
    "    feature_extractor = cv2.SIFT_create()\n",
    "    \n",
    "    # Trích xuất đặc trưng từ hai hình ảnh\n",
    "    keypoints1, descriptors1 = extract_features(image_path1, feature_extractor)\n",
    "    keypoints2, descriptors2 = extract_features(image_path2, feature_extractor)\n",
    "    \n",
    "    # So sánh các đặc trưng và nhận các điểm khớp\n",
    "    matches = match_images(descriptors1, descriptors2)\n",
    "    \n",
    "    # Vẽ ảnh kết quả với các điểm khớp\n",
    "    img1 = cv2.imread(image_path1)\n",
    "    img2 = cv2.imread(image_path2)\n",
    "    img_matches = cv2.drawMatches(img1, keypoints1, img2, keypoints2, matches, None)\n",
    "    \n",
    "    # Hiển thị ảnh kết quả\n",
    "    cv2.imshow('Matches', img_matches)\n",
    "    cv2.waitKey(0)\n",
    "    cv2.destroyAllWindows()\n",
    "    if 50 * len(matches) / (len(keypoints1) + len(keypoints2)) > 0.1:\n",
    "        print('Same object')\n",
    "    else:\n",
    "        print('Difference ojbect')\n",
    "\n",
    "if __name__ == \"__main__\":\n",
    "    main()\n"
   ]
  }
 ],
 "metadata": {
  "kernelspec": {
   "display_name": "py",
   "language": "python",
   "name": "python3"
  },
  "language_info": {
   "codemirror_mode": {
    "name": "ipython",
    "version": 3
   },
   "file_extension": ".py",
   "mimetype": "text/x-python",
   "name": "python",
   "nbconvert_exporter": "python",
   "pygments_lexer": "ipython3",
   "version": "3.11.6"
  }
 },
 "nbformat": 4,
 "nbformat_minor": 2
}
