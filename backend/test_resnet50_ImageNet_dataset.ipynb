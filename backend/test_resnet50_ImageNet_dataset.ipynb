{
 "cells": [
  {
   "cell_type": "code",
   "execution_count": 9,
   "metadata": {},
   "outputs": [
    {
     "name": "stdout",
     "output_type": "stream",
     "text": [
      "1/1 [==============================] - 2s 2s/step\n",
      "1/1 [==============================] - 0s 247ms/step\n",
      "Similarity Score: 0.17543472\n"
     ]
    }
   ],
   "source": [
    "import tensorflow as tf\n",
    "from tensorflow.keras.applications import ResNet50\n",
    "from tensorflow.keras.preprocessing import image\n",
    "from tensorflow.keras.applications.resnet50 import preprocess_input, decode_predictions\n",
    "import numpy as np\n",
    "\n",
    "# Load mô hình ResNet50 được huấn luyện trước\n",
    "base_model = ResNet50(weights='imagenet', include_top=False)\n",
    "\n",
    "# Hàm để chuyển đổi ảnh thành dữ liệu đầu vào cho mô hình\n",
    "def preprocess_image(img_path):\n",
    "    img = image.load_img(img_path, target_size=(224, 224))\n",
    "    img_array = image.img_to_array(img)\n",
    "    img_array = np.expand_dims(img_array, axis=0)\n",
    "    img_array = preprocess_input(img_array)\n",
    "    return img_array\n",
    "\n",
    "# Hàm để rút trích đặc trưng từ ảnh sử dụng mô hình ResNet50\n",
    "def extract_features(img_path):\n",
    "    img_array = preprocess_image(img_path)\n",
    "    features = base_model.predict(img_array)\n",
    "    return features.flatten()\n",
    "\n",
    "# Hàm để so sánh hai ảnh\n",
    "def compare_images(img_path1, img_path2):\n",
    "    features1 = extract_features(img_path1)\n",
    "    features2 = extract_features(img_path2)\n",
    "\n",
    "    # Sử dụng một phương pháp so sánh nào đó, ví dụ: cosine similarity\n",
    "    similarity_score = np.dot(features1, features2) / (np.linalg.norm(features1) * np.linalg.norm(features2))\n",
    "    return similarity_score\n",
    "\n",
    "# Thay thế bằng đường dẫn của hai hình ảnh bạn muốn so sánh\n",
    "# image_path1 = 'datatest/test_reid/tower1_0.jpg'\n",
    "# image_path2 = 'datatest/test_reid/tower0_1.jpg'\n",
    "\n",
    "# image_path1 = 'datatest/calcu_1.jpg'\n",
    "# image_path2 = 'datatest/calcu_2.jpg'\n",
    "\n",
    "image_path1 = 'database/data/reid_model/Duc/231231_16h26m53s_screenshot.png'\n",
    "image_path2 = 'database/data/reid_model/Duc/231231_16h28m59s_screenshot.png'\n",
    "\n",
    "# So sánh hai ảnh\n",
    "similarity_score = compare_images(image_path1, image_path2)\n",
    "\n",
    "# In kết quả\n",
    "print(\"Similarity Score:\", similarity_score)\n"
   ]
  }
 ],
 "metadata": {
  "kernelspec": {
   "display_name": "py",
   "language": "python",
   "name": "python3"
  },
  "language_info": {
   "codemirror_mode": {
    "name": "ipython",
    "version": 3
   },
   "file_extension": ".py",
   "mimetype": "text/x-python",
   "name": "python",
   "nbconvert_exporter": "python",
   "pygments_lexer": "ipython3",
   "version": "3.11.6"
  }
 },
 "nbformat": 4,
 "nbformat_minor": 2
}
