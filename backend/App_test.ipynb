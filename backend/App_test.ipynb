{
 "cells": [
  {
   "cell_type": "code",
   "execution_count": 1,
   "metadata": {},
   "outputs": [
    {
     "name": "stdout",
     "output_type": "stream",
     "text": [
      "Setting YOLO model for detect ...\n",
      "Setting reid model: resnet50 ...\n",
      "Setting the dictionary {name: vector feature} from load_data_base() ...\n",
      "Setting face recognition model with face_recognition \n",
      "Setup done!\n"
     ]
    }
   ],
   "source": [
    "from App import App\n",
    "\n",
    "app = App()"
   ]
  },
  {
   "cell_type": "code",
   "execution_count": 2,
   "metadata": {},
   "outputs": [],
   "source": [
    "from PIL import Image\n",
    "image1 = Image.open(\"data_test/per1_1.jpg\").convert('RGB')\n",
    "image2 = Image.open(\"data_test/per1_2.jpg\").convert('RGB')\n",
    "image3 = Image.open(\"data_test/per2_1.jpg\").convert('RGB')\n",
    "image4 = Image.open(\"data_test/multi_per.jpeg\").convert('RGB')"
   ]
  },
  {
   "cell_type": "markdown",
   "metadata": {},
   "source": [
    "## Test init()"
   ]
  },
  {
   "cell_type": "code",
   "execution_count": null,
   "metadata": {},
   "outputs": [],
   "source": [
    "print(type(app.yolo_model), type(app.reid_model))\n",
    "print(app.face_db_regis)"
   ]
  },
  {
   "cell_type": "markdown",
   "metadata": {},
   "source": [
    "## Test phương thức detect"
   ]
  },
  {
   "cell_type": "code",
   "execution_count": null,
   "metadata": {},
   "outputs": [],
   "source": [
    "object_images, results = app.detect_objects(image4)"
   ]
  },
  {
   "cell_type": "code",
   "execution_count": null,
   "metadata": {},
   "outputs": [],
   "source": [
    "image4.show()\n",
    "# print(len(object_images))\n",
    "object_images[0].show()\n",
    "# -> crop work right successful"
   ]
  },
  {
   "cell_type": "code",
   "execution_count": null,
   "metadata": {},
   "outputs": [],
   "source": [
    "app.draw_picture_detect(results)\n",
    "# -> take picture and get bounding success "
   ]
  },
  {
   "cell_type": "markdown",
   "metadata": {},
   "source": [
    "## Test phương thức cho face recognition model "
   ]
  },
  {
   "cell_type": "code",
   "execution_count": null,
   "metadata": {},
   "outputs": [],
   "source": [
    "object_images, results = app.detect_objects(image1)\n",
    "# object_images[0].show()"
   ]
  },
  {
   "cell_type": "code",
   "execution_count": null,
   "metadata": {},
   "outputs": [],
   "source": [
    "image, check = app.face_similar(object_images[0])"
   ]
  },
  {
   "cell_type": "code",
   "execution_count": null,
   "metadata": {},
   "outputs": [],
   "source": [
    "print(check)"
   ]
  },
  {
   "cell_type": "code",
   "execution_count": null,
   "metadata": {},
   "outputs": [],
   "source": [
    "object_images[0].show()"
   ]
  },
  {
   "cell_type": "code",
   "execution_count": null,
   "metadata": {},
   "outputs": [],
   "source": [
    "import matplotlib.pyplot as plt\n",
    "plt.imshow(image)\n",
    "plt.show()"
   ]
  },
  {
   "cell_type": "code",
   "execution_count": null,
   "metadata": {},
   "outputs": [],
   "source": [
    "image.show()"
   ]
  },
  {
   "cell_type": "markdown",
   "metadata": {},
   "source": [
    "## Test phương thức cho reID model "
   ]
  },
  {
   "cell_type": "code",
   "execution_count": 3,
   "metadata": {},
   "outputs": [],
   "source": [
    "from PIL import Image\n",
    "image0_0 = Image.open(\"data_test/test_reid/tower0_0.jpg\").convert('RGB')\n",
    "image0_1 = Image.open(\"data_test/test_reid/tower0_1.jpg\").convert('RGB')\n",
    "image0_2 = Image.open(\"data_test/test_reid/tower0_2.jpg\").convert('RGB')\n",
    "image0_3 = Image.open(\"data_test/test_reid/tower0_3.jpg\").convert('RGB')\n",
    "image1_0 = Image.open(\"data_test/test_reid/tower1_0.jpg\").convert('RGB')"
   ]
  },
  {
   "cell_type": "code",
   "execution_count": 4,
   "metadata": {},
   "outputs": [
    {
     "name": "stdout",
     "output_type": "stream",
     "text": [
      "\n",
      "0: 640x480 (no detections), 3154.5ms\n",
      "Speed: 9.1ms preprocess, 3154.5ms inference, 1.4ms postprocess per image at shape (1, 3, 640, 480)\n",
      "\n",
      "0: 640x480 1 clock, 3829.7ms\n",
      "Speed: 5.7ms preprocess, 3829.7ms inference, 1.7ms postprocess per image at shape (1, 3, 640, 480)\n",
      "\n",
      "0: 640x480 1 bottle, 3556.6ms\n",
      "Speed: 17.0ms preprocess, 3556.6ms inference, 1.3ms postprocess per image at shape (1, 3, 640, 480)\n"
     ]
    }
   ],
   "source": [
    "object_images_0, results_0 = app.detect_objects(image0_0)\n",
    "object_images_1, results_1 = app.detect_objects(image0_1)\n",
    "object_images_2, results_2 = app.detect_objects(image1_0)"
   ]
  },
  {
   "cell_type": "code",
   "execution_count": null,
   "metadata": {},
   "outputs": [],
   "source": [
    "object_images_1[0].show()"
   ]
  },
  {
   "cell_type": "code",
   "execution_count": null,
   "metadata": {},
   "outputs": [],
   "source": [
    "object_images_2[0].show()"
   ]
  },
  {
   "cell_type": "code",
   "execution_count": 7,
   "metadata": {},
   "outputs": [
    {
     "name": "stdout",
     "output_type": "stream",
     "text": [
      "[[ True]]\n",
      "[[False]]\n"
     ]
    }
   ],
   "source": [
    "print(app.same_object(image0_1, image0_0))\n",
    "print(app.same_object(image0_1, image1_0))\n",
    "# -> test reid model work fine "
   ]
  },
  {
   "cell_type": "markdown",
   "metadata": {},
   "source": []
  }
 ],
 "metadata": {
  "kernelspec": {
   "display_name": "py",
   "language": "python",
   "name": "python3"
  },
  "language_info": {
   "codemirror_mode": {
    "name": "ipython",
    "version": 3
   },
   "file_extension": ".py",
   "mimetype": "text/x-python",
   "name": "python",
   "nbconvert_exporter": "python",
   "pygments_lexer": "ipython3",
   "version": "3.11.6"
  }
 },
 "nbformat": 4,
 "nbformat_minor": 2
}
