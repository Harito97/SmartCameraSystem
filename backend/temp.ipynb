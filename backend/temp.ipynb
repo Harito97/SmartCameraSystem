{
 "cells": [
  {
   "cell_type": "code",
   "execution_count": 1,
   "metadata": {},
   "outputs": [
    {
     "name": "stdout",
     "output_type": "stream",
     "text": [
      "Setting YOLO model for detect ...\n",
      "Setting reid model: resnet50 ...\n",
      "Setting the dictionary {name: vector feature} from load_data_base() ...\n",
      "Setting face recognition model with face_recognition \n",
      "Setup done!\n"
     ]
    }
   ],
   "source": [
    "from App import App\n",
    "import cv2\n",
    "import numpy as np\n",
    "\n",
    "app = App()"
   ]
  },
  {
   "cell_type": "code",
   "execution_count": 2,
   "metadata": {},
   "outputs": [],
   "source": [
    "cam1 = '/home/harito/Videos/Cam1.mp4'\n",
    "cam2 = '/home/harito/Videos/Cam2.mp4'\n",
    "\n",
    "cap1 = cv2.VideoCapture(cam1)\n",
    "cap2 = cv2.VideoCapture(cam2)"
   ]
  },
  {
   "cell_type": "code",
   "execution_count": 3,
   "metadata": {},
   "outputs": [
    {
     "name": "stdout",
     "output_type": "stream",
     "text": [
      "\n",
      "0: 384x640 2 persons, 1 couch, 1 dining table, 1 tv, 333.2ms\n",
      "Speed: 27.0ms preprocess, 333.2ms inference, 3.7ms postprocess per image at shape (1, 3, 384, 640)\n",
      "\n",
      "0: 384x640 1 person, 1 tv, 631.7ms\n",
      "Speed: 2.8ms preprocess, 631.7ms inference, 1.7ms postprocess per image at shape (1, 3, 384, 640)\n"
     ]
    }
   ],
   "source": [
    "ret1, frame1 = cap1.read()\n",
    "ret2, frame2 = cap2.read()\n",
    "real_frame = cv2.hconcat([frame1, frame2])\n",
    "\n",
    "frame1_detect = app.detect_objects(frame1)\n",
    "frame2_detect = app.detect_objects(frame2)\n",
    "frame1_detect = cv2.cvtColor(np.array(app.draw_picture_detect(frame1_detect[1])), cv2.COLOR_RGB2BGR)\n",
    "frame2_detect = cv2.cvtColor(np.array(app.draw_picture_detect(frame2_detect[1])), cv2.COLOR_RGB2BGR)\n",
    "\n",
    "detect_frame = cv2.hconcat([frame1_detect, frame2_detect])"
   ]
  },
  {
   "cell_type": "code",
   "execution_count": 4,
   "metadata": {},
   "outputs": [
    {
     "name": "stdout",
     "output_type": "stream",
     "text": [
      "(720, 2560, 3)\n",
      "(720, 2560, 3)\n"
     ]
    }
   ],
   "source": [
    "print(real_frame.shape)\n",
    "print(detect_frame.shape)"
   ]
  }
 ],
 "metadata": {
  "kernelspec": {
   "display_name": "py",
   "language": "python",
   "name": "python3"
  },
  "language_info": {
   "codemirror_mode": {
    "name": "ipython",
    "version": 3
   },
   "file_extension": ".py",
   "mimetype": "text/x-python",
   "name": "python",
   "nbconvert_exporter": "python",
   "pygments_lexer": "ipython3",
   "version": "3.11.6"
  }
 },
 "nbformat": 4,
 "nbformat_minor": 2
}
