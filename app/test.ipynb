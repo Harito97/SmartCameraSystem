{
 "cells": [
  {
   "cell_type": "code",
   "execution_count": 1,
   "metadata": {},
   "outputs": [
    {
     "name": "stdout",
     "output_type": "stream",
     "text": [
      "Setting YOLO model for detect ...\n",
      "Set reid with histogram\n",
      "Setting the dictionary {name: vector feature} from load_data_base() ...\n",
      "Set face recognition model with face_recognition \n",
      "Setup done!\n"
     ]
    }
   ],
   "source": [
    "from App import App\n",
    "app = App()"
   ]
  },
  {
   "cell_type": "code",
   "execution_count": 11,
   "metadata": {},
   "outputs": [
    {
     "name": "stdout",
     "output_type": "stream",
     "text": [
      "\n",
      "0: 384x640 1 person, 1 tv, 247.1ms\n",
      "Speed: 31.6ms preprocess, 247.1ms inference, 1.2ms postprocess per image at shape (1, 3, 384, 640)\n",
      "\n",
      "0: 384x640 2 persons, 1 couch, 1 dining table, 1 tv, 183.8ms\n",
      "Speed: 6.2ms preprocess, 183.8ms inference, 1.4ms postprocess per image at shape (1, 3, 384, 640)\n",
      "(1440, 5120, 3)\n",
      "(1440, 2560, 3)\n",
      "(1440, 2560, 3)\n"
     ]
    }
   ],
   "source": [
    "import cv2\n",
    "from App import List\n",
    "\n",
    "cv2.namedWindow('Cam', cv2.WINDOW_NORMAL)\n",
    "# #######################################\n",
    "cap1, cap2 = App.take_cam()\n",
    "terminal_frame = App.black_frame(1440, 2560)\n",
    "list_frame = [App.black_frame(1440, 640)] * 8\n",
    "reid_picture = {'Hai': List(), 'Duc': List(), 'DucAnh': List(), 'Thang': List()}\n",
    "i = 0\n",
    "if cap1.isOpened() and cap2.isOpened():\n",
    "    ret1, frame1 = cap1.read()\n",
    "    ret2, frame2 = cap2.read()\n",
    "    \n",
    "    real_frame = cv2.hconcat([frame1, frame2])\n",
    "    if i % 24 == 0:\n",
    "        # Detect\n",
    "        result1_detect, result2_detect, detect_frame = app.detect(frame1, frame2) \n",
    "        real_detect_frame = cv2.vconcat([real_frame, detect_frame])\n",
    "        if i % 10 == 0:\n",
    "            for per1 in result1_detect[0]:\n",
    "                result = app.same_object(per1, reid_picture, 0.4)\n",
    "                if result[0]:\n",
    "                    reid_picture = result[1]\n",
    "                    break\n",
    "            else:\n",
    "                print('No per1 be same')\n",
    "            for per2 in result2_detect[0]:\n",
    "                result = app.same_object(per2, reid_picture, 0.4)\n",
    "                if result[0]:\n",
    "                    reid_picture = result[1]\n",
    "                    break\n",
    "            else:\n",
    "                print('No per2 be same')\n",
    "            list_frame = App.update_list_frame(list_frame, reid_picture)\n",
    "            reid_frame = cv2.hconcat(list_frame)\n",
    "    # cv2.imshow('Cam', cv2.hconcat([cv2.vconcat([real_frame, detect_frame]), terminal_frame]))\n",
    "    frame = cv2.vconcat([cv2.hconcat([real_detect_frame, terminal_frame]), reid_frame])\n",
    "    cv2.imshow('Cam', frame)\n",
    "    print(reid_frame.shape)\n",
    "    print(real_detect_frame.shape)\n",
    "    print(terminal_frame.shape)\n",
    "    \n",
    "while True:\n",
    "    if cv2.waitKey(1) & 0xFF == ord('q'):\n",
    "        cv2.destroyAllWindows()\n",
    "        break"
   ]
  },
  {
   "cell_type": "code",
   "execution_count": 2,
   "metadata": {},
   "outputs": [
    {
     "name": "stdout",
     "output_type": "stream",
     "text": [
      "{1, 2, 3}\n",
      "{4, 5}\n"
     ]
    }
   ],
   "source": [
    "A = set([1,2,3,4,5])\n",
    "B = set([4,5,6,7,8])\n",
    "print(str(A - B))\n",
    "print(A & B)"
   ]
  }
 ],
 "metadata": {
  "kernelspec": {
   "display_name": "py",
   "language": "python",
   "name": "python3"
  },
  "language_info": {
   "codemirror_mode": {
    "name": "ipython",
    "version": 3
   },
   "file_extension": ".py",
   "mimetype": "text/x-python",
   "name": "python",
   "nbconvert_exporter": "python",
   "pygments_lexer": "ipython3",
   "version": "3.11.6"
  }
 },
 "nbformat": 4,
 "nbformat_minor": 2
}
