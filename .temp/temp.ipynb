{
 "cells": [
  {
   "cell_type": "code",
   "execution_count": 2,
   "metadata": {},
   "outputs": [
    {
     "name": "stdout",
     "output_type": "stream",
     "text": [
      "/mnt/DataK/Project/MCMO_Detect/temp\n"
     ]
    }
   ],
   "source": [
    "!pwd"
   ]
  },
  {
   "cell_type": "code",
   "execution_count": 5,
   "metadata": {},
   "outputs": [],
   "source": [
    "import cv2\n",
    "import numpy as np\n",
    "\n",
    "# Load YOLO\n",
    "net = cv2.dnn.readNet(\"models/yolov3-tiny.weights\", \"models/yolov3-tiny.cfg\")\n",
    "classes = []\n",
    "with open(\"models/coco.names\", \"r\") as f:\n",
    "    classes = [line.strip() for line in f.readlines()]\n",
    "\n",
    "# Load image\n",
    "# image = cv2.imread(\"img.png\")\n",
    "# image = cv2.imread(\"img.jpg\")\n",
    "image = cv2.imread(\"img1.jpg\")\n",
    "height, width, _ = image.shape\n",
    "\n",
    "# Preprocess image\n",
    "blob = cv2.dnn.blobFromImage(image, 1/255.0, (416, 416), swapRB=True, crop=False)\n",
    "net.setInput(blob)\n",
    "\n",
    "# Get output layer names\n",
    "output_layers = net.getUnconnectedOutLayersNames()\n",
    "\n",
    "# Forward pass\n",
    "detections = net.forward(output_layers)\n",
    "\n",
    "# Loop over detections\n",
    "for detection in detections:\n",
    "    for obj in detection:\n",
    "        scores = obj[5:]\n",
    "        class_id = np.argmax(scores)\n",
    "        confidence = scores[class_id]\n",
    "        if confidence > 0.5 and class_id == 0:  # Class ID 0 is 'person'\n",
    "            center_x = int(obj[0] * width)\n",
    "            center_y = int(obj[1] * height)\n",
    "            w = int(obj[2] * width)\n",
    "            h = int(obj[3] * height)\n",
    "\n",
    "            # Draw bounding box\n",
    "            x = int(center_x - w / 2)\n",
    "            y = int(center_y - h / 2)\n",
    "            cv2.rectangle(image, (x, y), (x + w, y + h), (0, 255, 0), 2)\n",
    "\n",
    "# Display the result\n",
    "cv2.namedWindow('Person Detection', cv2.WINDOW_NORMAL)\n",
    "cv2.imshow(\"Person Detection\", image)\n",
    "cv2.waitKey(0)\n",
    "cv2.destroyAllWindows()"
   ]
  }
 ],
 "metadata": {
  "kernelspec": {
   "display_name": "py",
   "language": "python",
   "name": "python3"
  },
  "language_info": {
   "codemirror_mode": {
    "name": "ipython",
    "version": 3
   },
   "file_extension": ".py",
   "mimetype": "text/x-python",
   "name": "python",
   "nbconvert_exporter": "python",
   "pygments_lexer": "ipython3",
   "version": "3.11.6"
  }
 },
 "nbformat": 4,
 "nbformat_minor": 2
}
