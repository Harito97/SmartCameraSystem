{
 "cells": [
  {
   "cell_type": "code",
   "execution_count": 2,
   "metadata": {},
   "outputs": [
    {
     "name": "stdout",
     "output_type": "stream",
     "text": [
      "Found 4 faces in the image.\n"
     ]
    },
    {
     "name": "stderr",
     "output_type": "stream",
     "text": [
      "\n",
      "(loupe:62329): GLib-GObject-CRITICAL **: 21:31:19.106: g_object_weak_unref: couldn't find weak ref 0x7fd01bf16970((nil))\n"
     ]
    }
   ],
   "source": [
    "import face_recognition\n",
    "from PIL import Image, ImageDraw\n",
    "import numpy as np\n",
    "\n",
    "# Đường dẫn đến ảnh chứa khuôn mặt\n",
    "image_path = \"data_test/0.jpg\"\n",
    "\n",
    "# Load ảnh\n",
    "image_np = face_recognition.load_image_file(image_path)\n",
    "\n",
    "# Convert NumPy array to PIL Image\n",
    "image = Image.fromarray(image_np)\n",
    "\n",
    "# Tìm tất cả các khuôn mặt trong ảnh\n",
    "face_locations = face_recognition.face_locations(image_np)\n",
    "\n",
    "# In số lượng khuôn mặt được tìm thấy\n",
    "print(f\"Found {len(face_locations)} faces in the image.\")\n",
    "\n",
    "# Tạo một đối tượng ImageDraw để vẽ các hình chữ nhật xung quanh khuôn mặt\n",
    "draw = ImageDraw.Draw(image)\n",
    "\n",
    "# Vẽ các hình chữ nhật xung quanh khuôn mặt\n",
    "for face_location in face_locations:\n",
    "    top, right, bottom, left = face_location\n",
    "    draw.rectangle([left, top, right, bottom], outline=\"green\", width=5)\n",
    "\n",
    "# Hiển thị ảnh với các khuôn mặt được đánh dấu\n",
    "image.show()"
   ]
  },
  {
   "cell_type": "code",
   "execution_count": 4,
   "metadata": {},
   "outputs": [
    {
     "name": "stdout",
     "output_type": "stream",
     "text": [
      "Found 1 faces in the image.\n",
      "Face 1 encoding: 128 length\n",
      "Face 1 has a distance of 0.4401 from the target face.\n",
      "Face 2 has a distance of 0.6382 from the target face.\n",
      "Face 3 has a distance of 0.7083 from the target face.\n",
      "Face 4 has a distance of 0.6435 from the target face.\n",
      "Face 5 has a distance of 0.5346 from the target face.\n",
      "Face 6 has a distance of 0.6723 from the target face.\n",
      "Face 7 has a distance of 0.6834 from the target face.\n",
      "Face 8 has a distance of 0.5173 from the target face.\n",
      "Face 9 has a distance of 0.7071 from the target face.\n",
      "Face 10 has a distance of 0.5849 from the target face.\n",
      "Found a matching face at index 0 in the image.\n"
     ]
    }
   ],
   "source": [
    "# Kiểm tra 1 khuôn mặt sẵn có trong các khuôn mặt được cung cấp hay không\n",
    "import face_recognition\n",
    "\n",
    "# Đường dẫn đến ảnh chứa khuôn mặt\n",
    "image_path = \"database/NgọcAnh.per3_0.jpg\"\n",
    "\n",
    "# Load ảnh\n",
    "image = face_recognition.load_image_file(image_path)\n",
    "\n",
    "# Tìm tất cả các khuôn mặt trong ảnh\n",
    "face_locations = face_recognition.face_locations(image)\n",
    "face_encodings = face_recognition.face_encodings(image, face_locations)\n",
    "\n",
    "# In số lượng khuôn mặt và vector đặc trưng\n",
    "print(f\"Found {len(face_locations)} faces in the image.\")\n",
    "for i, face_encoding in enumerate(face_encodings):\n",
    "    print(f\"Face {i + 1} encoding: {face_encoding.size} length\")\n",
    "\n",
    "# Vector đặc trưng của khuôn mặt bạn muốn so sánh\n",
    "target_face_encoding = face_encodings[0] # your target face encoding vector\n",
    "\n",
    "# Đường dẫn đến ảnh chứa nhiều khuôn mặt\n",
    "image_path = \"data_test/multi_per.jpeg\"\n",
    "\n",
    "# Load ảnh\n",
    "image = face_recognition.load_image_file(image_path)\n",
    "\n",
    "# Tìm tất cả các khuôn mặt trong ảnh\n",
    "face_locations = face_recognition.face_locations(image)\n",
    "face_encodings = face_recognition.face_encodings(image, face_locations)\n",
    "\n",
    "# So sánh vector đặc trưng với các khuôn mặt trong ảnh\n",
    "distances = face_recognition.face_distance(face_encodings, target_face_encoding)\n",
    "\n",
    "# In kết quả\n",
    "for i, distance in enumerate(distances):\n",
    "    print(f\"Face {i + 1} has a distance of {distance:.4f} from the target face.\")\n",
    "\n",
    "# Xác định ngưỡng để quyết định liệu có khuôn mặt nào đó \"gần đủ\" hay không\n",
    "threshold = 0.6\n",
    "matches = [i for i, distance in enumerate(distances) if distance < threshold]\n",
    "\n",
    "# In kết quả\n",
    "if matches:\n",
    "    print(f\"Found a matching face at index {matches[0]} in the image.\")\n",
    "else:\n",
    "    print(\"No matching face found in the image.\")\n",
    "\n"
   ]
  },
  {
   "cell_type": "code",
   "execution_count": 7,
   "metadata": {},
   "outputs": [],
   "source": [
    "import face_recognition\n",
    "import cv2\n",
    "\n",
    "# Hàm để vẽ bounding box và hiển thị tên trên ảnh\n",
    "def draw_boxes_with_names(image, face_locations, face_names):\n",
    "    for (top, right, bottom, left), name in zip(face_locations, face_names):\n",
    "        # Vẽ bounding box\n",
    "        cv2.rectangle(image, (left, top), (right, bottom), (0, 255, 0), 2)\n",
    "\n",
    "        # Hiển thị tên gán nhãn trước\n",
    "        font = cv2.FONT_HERSHEY_DUPLEX\n",
    "        cv2.putText(image, name, (left + 6, bottom - 6), font, 0.5, (255, 255, 255), 1)\n",
    "\n",
    "# Đường dẫn đến ảnh chứa nhiều khuôn mặt (ảnh cần kiểm tra)\n",
    "image_path_to_check = \"data_test/multi_per.jpeg\"\n",
    "\n",
    "# Load ảnh cần kiểm tra\n",
    "image_to_check = face_recognition.load_image_file(image_path_to_check)\n",
    "\n",
    "# Tìm tất cả các khuôn mặt trong ảnh cần kiểm tra\n",
    "face_locations_to_check = face_recognition.face_locations(image_to_check)\n",
    "face_encodings_to_check = face_recognition.face_encodings(image_to_check, face_locations_to_check)\n",
    "\n",
    "# Đường dẫn đến cơ sở dữ liệu ảnh chứa các khuôn mặt đã biết\n",
    "database_image_paths = [\"database/NgọcAnh.per3_0.jpg\", \"database/Sơn.per5_0.jpg\", \"database/Nga.per6_0.jpg\"]  # Thêm đường dẫn ảnh của các người trong cơ sở dữ liệu\n",
    "\n",
    "# Load ảnh từ cơ sở dữ liệu và tìm khuôn mặt\n",
    "database_face_encodings = []\n",
    "database_face_names = []  # Thêm tên đã gán nhãn trước\n",
    "for database_image_path in database_image_paths:\n",
    "    database_image = face_recognition.load_image_file(database_image_path)\n",
    "    database_face_encoding = face_recognition.face_encodings(database_image)[0]  # Giả sử mỗi ảnh chỉ có một khuôn mặt\n",
    "    database_face_encodings.append(database_face_encoding)\n",
    "    database_face_names.append(database_image_path.split('.')[1])  # Lấy tên từ tên file\n"
   ]
  },
  {
   "cell_type": "code",
   "execution_count": 8,
   "metadata": {},
   "outputs": [],
   "source": [
    "# Tạo danh sách tên cho các khuôn mặt trong ảnh cần kiểm tra\n",
    "face_names_to_check = []\n",
    "\n",
    "for face_encoding_to_check in face_encodings_to_check:\n",
    "    distances = face_recognition.face_distance(database_face_encodings, face_encoding_to_check)\n",
    "\n",
    "    # Xác định ngưỡng để quyết định liệu có khuôn mặt nào đó \"gần đủ\" hay không\n",
    "    threshold = 0.43\n",
    "    match_indices = [i for i, distance in enumerate(distances) if distance < threshold]\n",
    "\n",
    "    # Gán tên cho khuôn mặt dựa trên kết quả so sánh\n",
    "    if match_indices:\n",
    "        matched_index = match_indices[0]\n",
    "        face_names_to_check.append(database_face_names[matched_index])\n",
    "    else:\n",
    "        face_names_to_check.append(\"Unknown\")\n",
    "\n",
    "# Vẽ bounding box và hiển thị tên trên ảnh cần kiểm tra\n",
    "draw_boxes_with_names(image_to_check, face_locations_to_check, face_names_to_check)\n",
    "\n",
    "# Hiển thị ảnh\n",
    "cv2.namedWindow('Faces', cv2.WINDOW_NORMAL)\n",
    "cv2.imshow(\"Faces\", cv2.cvtColor(image_to_check, cv2.COLOR_RGB2BGR))\n",
    "cv2.waitKey(0)\n",
    "cv2.destroyAllWindows()"
   ]
  },
  {
   "cell_type": "code",
   "execution_count": null,
   "metadata": {},
   "outputs": [],
   "source": []
  }
 ],
 "metadata": {
  "kernelspec": {
   "display_name": "py",
   "language": "python",
   "name": "python3"
  },
  "language_info": {
   "codemirror_mode": {
    "name": "ipython",
    "version": 3
   },
   "file_extension": ".py",
   "mimetype": "text/x-python",
   "name": "python",
   "nbconvert_exporter": "python",
   "pygments_lexer": "ipython3",
   "version": "3.11.6"
  }
 },
 "nbformat": 4,
 "nbformat_minor": 2
}
